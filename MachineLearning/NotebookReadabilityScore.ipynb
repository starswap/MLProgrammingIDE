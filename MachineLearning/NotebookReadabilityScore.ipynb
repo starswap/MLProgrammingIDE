{
  "nbformat": 4,
  "nbformat_minor": 0,
  "metadata": {
    "colab": {
      "name": "Notebook: Readability Score",
      "provenance": [],
      "collapsed_sections": []
    },
    "kernelspec": {
      "name": "python3",
      "display_name": "Python 3"
    },
    "language_info": {
      "name": "python"
    }
  },
  "cells": [
    {
      "cell_type": "markdown",
      "metadata": {
        "id": "LenvVgkhk0tB"
      },
      "source": [
        "## **Code Readability Score**\n",
        "\n"
      ]
    },
    {
      "cell_type": "code",
      "metadata": {
        "id": "E5DHVYAxbfZB"
      },
      "source": [
        "import numpy as np #Linear algebra library\n",
        "import os #Used to manipulate local file system to access the dataset data\n",
        "import copy #Used for copy.deepcopy to copy matrices to get new ones with the same dimensions \n",
        "import matplotlib.pyplot as plt #Used to plot the cost function against time for the network.\n",
        "import csv #Used to parse the csv files containing the data\n",
        "import re #Used to manipulate the snippets by splitting on punctuation in order to get identifiers out"
      ],
      "execution_count": null,
      "outputs": []
    },
    {
      "cell_type": "markdown",
      "metadata": {
        "id": "N9ZaRFqspCMS"
      },
      "source": [
        "### Process Snippet Data\n"
      ]
    },
    {
      "cell_type": "code",
      "metadata": {
        "id": "SquQ9uwsGDua",
        "colab": {
          "base_uri": "https://localhost:8080/"
        },
        "outputId": "ea9a2325-a1b2-4562-99dc-deb7ffdf6cfa"
      },
      "source": [
        "def SnippetsToFeatures():\n",
        "    \"\"\"Takes snippets from the Dorn readability dataset which are already saved locally and processes them into a set of machine learning features.\"\"\"\n",
        "    \n",
        "    X_DIRECTORY = \"/content/drive/MyDrive/A Level/Computer Science/NEA/Readability Data\"  #The local directory containing all of the snippets\n",
        "    Y_FILE = \"/content/drive/MyDrive/A Level/Computer Science/NEA/Readability Data/python.csv\" #The csv file containing ratings for each snippet\n",
        "\n",
        "    #Initialise matrices for total rating and no of times rated (to compute averages)\n",
        "    y = np.zeros((1,len(os.listdir(X_DIRECTORY))-1))\n",
        "    noRatings = np.zeros((1,len(os.listdir(X_DIRECTORY))-1))\n",
        "\n",
        "    #Open the csv file and iterate over it\n",
        "    with open(Y_FILE) as csv_file: #Source https://realpython.com/python-csv/\n",
        "        yData = csv.reader(csv_file, delimiter=',')\n",
        "        for row in yData: #Each row represents one person who rated snippets; each column is one snippet. Each row contains a large number of blank cells (unrated snippets) and a few data cells\n",
        "            for i,value in enumerate(row[1:]): #for each snippet the user rated (skipping first column which is uid)\n",
        "                if value != \"\": #if the user did rate the snippet\n",
        "                    y[0][i] += int(value) #add the rating and count the number of ratings so we can average later\n",
        "                    noRatings[0][i] += 1\n",
        "    \n",
        "    y /= noRatings #average\n",
        "    \n",
        "    #The ratings were 1 to 5 inclusive. Convert to be from 0 to 10 which is what we want for our output\n",
        "    y -= 1 \n",
        "    y *= 10/4\n",
        "\n",
        "    #Now we have all of the average ratings, for every snipppet get the snippet and extract features and then put the snippet next to its rating in the matrix\n",
        "    for i,file in enumerate(os.listdir(X_DIRECTORY)): #for every file in the directory that stores them\n",
        "        if os.path.splitext(file)[1] == '.jsnp': #if the file has the correct extension it must be a snippet file\n",
        "            with open(os.path.join(X_DIRECTORY,file)) as f: #read the file contents before passing it into the ExtractCodeReadabilityFeatures routine\n",
        "                if i == 0: #For the first one we need to create the dataMatrix variable as the result ...\n",
        "                    dataMatrix = ExtractCodeReadabilityFeatures(f.read())\n",
        "                else:\n",
        "                    dataMatrix = np.hstack((dataMatrix,ExtractCodeReadabilityFeatures(f.read()))) #... and for subsequent ones we need to stack the results horizontally next to the existing dataMatrix\n",
        "    dataMatrix = np.vstack((dataMatrix,y)) #Now put the y values on the bottom so each row represents an x or y feature and each column represents one input snippet training example.\n",
        "    \n",
        "    return dataMatrix #output data matrix back to caller.\n",
        "\n",
        "def ExtractCodeReadabilityFeatures(codeSnippet):\n",
        "    \"\"\"Takes a code snippet and converts it to a matrix of statistical features describing it, which will be used to score it on readability.\"\"\"\n",
        "    \n",
        "    #These are used to determine whether a word seen in the code snippet is an identifier or a language keyword\n",
        "    LANGUAGE_KEYWORDS = [\"for\",\"if\",\"def\",\"lambda\",\"while\",\"await\",\"else\",\"elif\",\"import\",\"pass\",\"break\",\"except\",\"in\",\"raise\",\"class\",\"finally\",\"is\",\"return\",\"and\",\"continue\",\"try\",\"as\",\"from\",\"assert\",\"del\",\"global\",\"not\",\"with\",\"async\",\"or\",\"yield\",\"self\",\"False\",\"True\",\"AttributeError\",\"None\"] #Source https://www.programiz.com/python-programming/keyword-list \n",
        "    \n",
        "    #MAINTENANCE: To change the designated tab style (tabs/spaces) for this part of the solution, swap the commented line\n",
        "    TAB_CHAR = \"    \"\n",
        " #   TAB_CHAR = \"\\t\" \n",
        "    \n",
        "    #Initialise accumulator variables counting each feature which will later be averaged.\n",
        "    numberOfLines = 0    \n",
        "    totalLineLength = 0\n",
        "    totalEmptyLines = 0\n",
        "    maxIndentDepth = 0\n",
        "    totalDigits = 0\n",
        "    totalSpaces = 0\n",
        "    prevIndent = 0\n",
        "    blockLength = 0\n",
        "    totalBlockLength = 0 \n",
        "    totalBlocks = 0 \n",
        "    totalIdentifiers = 0\n",
        "    totalIdentifierLength = 0\n",
        "    totalCamelPascal = 0\n",
        "    totalUnder = 0\n",
        "    totalUpperCase = 0 \n",
        "    idCounts = {} #This dictionary counts occurrences of each identifier in the code snippet so we can later calculate things like the number of occurrences of the most frequent identifier\n",
        "\n",
        "    for line in codeSnippet.split(\"\\n\"): #Go over every line in the snippet\n",
        "        numberOfLines += 1 #Count lines\n",
        "        totalLineLength += len(line) #This variable will later be divided by numberOfLines to get averageLineLength\n",
        "        if line == \"\": #Count empty lines\n",
        "            totalEmptyLines += 1\n",
        "            continue #Skip further processing on empty lines\n",
        "\n",
        "        if line.count(TAB_CHAR) > maxIndentDepth: #One of the features is the maximum indentation depth in tabs (or multiples of 4 spaces)\n",
        "            maxIndentDepth = line.count(TAB_CHAR)\n",
        "        \n",
        "        totalDigits += sum([line.count(a) for a in \"1234567890\"]) #Count all digits in the line\n",
        "        totalSpaces += line.count(\" \") #Count all spaces in the line\n",
        "\n",
        "        if line.count(TAB_CHAR) != prevIndent: #prevIndent stores the indent level of the previous line, so that we know if indentation has changed (if yes we are on a new block of code)\n",
        "            totalBlockLength += blockLength #We will later divide this by total blocks to get average block length\n",
        "            blockLength = 0\n",
        "            totalBlocks += 1\n",
        "        prevIndent = line.count(TAB_CHAR) #this line's indent is saved for next time\n",
        "        blockLength += 1 \n",
        "\n",
        "        #We take the part of the current line up to any comment (# or \"\"\") and split it on punctuation, yielding only \"words\". These are either identifiers or keywords\n",
        "        for item in re.split(\"\\W+\",line.split(\"#\")[0].split(\"\\\"\\\"\\\"\")[0]): #https://stackoverflow.com/questions/1059559/split-strings-into-words-with-multiple-word-boundary-delimiters\n",
        "            if item == \"\": #There were two symbols in a row, yielding a blank match which we ignore\n",
        "                continue\n",
        "            if not(item in LANGUAGE_KEYWORDS): #Not a language keyword therefore...\n",
        "                #item is an identifier name\n",
        "                totalIdentifiers += 1 #Count identifiers\n",
        "                totalIdentifierLength += len(item) #Will be used to get average identifier length\n",
        "                \n",
        "                #Count different variable naming conventions\n",
        "                if \"_\" in item: #underscore_based\n",
        "                    totalUnder += 1\n",
        "                if re.search(\"[A-Z]\",item) and re.search(\"[a-z]\",item): #camelCase/PascalCase\n",
        "                    totalCamelPascal += 1\n",
        "                elif re.search(\"[A-Z]\",item): #UPPER CASE\n",
        "                    totalUpperCase += 1\n",
        "                \n",
        "                #Increment the number of times we have seen this identifier in the code so we can later find the maximum occurrences of a single identifier\n",
        "                if item in idCounts:\n",
        "                    idCounts[item] = idCounts[item] + 1 \n",
        "                else:\n",
        "                    idCounts[item] = 1\n",
        "    \n",
        "    totalSharpComments = codeSnippet.count(\"#\")\n",
        "\n",
        "    #Avoid divide by 0 errors\n",
        "    if totalIdentifiers == 0:\n",
        "        totalIdentifiers = 1\n",
        "    if totalBlocks == 0:\n",
        "        totalBlocks = 1\n",
        "\n",
        "    #Compute averages\n",
        "    averageLineLength = totalLineLength/numberOfLines\n",
        "    averageIdentifierLength = totalIdentifierLength/totalIdentifiers\n",
        "    averageIdPerLine = totalIdentifiers/numberOfLines\n",
        "    averageSharpCommentsPerLine = totalSharpComments/numberOfLines\n",
        "    averageEmptyLinesPerLine = totalEmptyLines/numberOfLines\n",
        "    averageCamelPascalPerLine = totalCamelPascal/numberOfLines\n",
        "    averageUnderPerLine = totalUnder/numberOfLines\n",
        "    averageCapsPerLine = totalUpperCase/numberOfLines\n",
        "    averageDigitsPerLine = totalDigits/numberOfLines\n",
        "    averageSpacesPerLine = totalSpaces/numberOfLines\n",
        "    averageBlockLength = totalBlockLength/totalBlocks\n",
        "\n",
        "    #Get maximum occurrence of any identifier\n",
        "    if len(idCounts) > 0: #If we have at least one identifier, sort the identifiers and then get the last (maximum as ascending) one\n",
        "        maximumOccurOfID = idCounts[sorted(idCounts, key=idCounts.get)[-1]] #Source: https://stackoverflow.com/questions/613183/how-do-i-sort-a-dictionary-by-value\n",
        "    else:\n",
        "        maximumOccurOfID = 0 #There were no identifiers. We deal with this case separately because otherwise we get an index error on the [-1] above\n",
        "    \n",
        "    #Count remaining things to count and average over number of lines so we don't penalise long code\n",
        "    #   List of regular expressions to match e.g. comparison operators, bitwise operators, assignment,  arithmetic\n",
        "    THINGS_TO_LOOK_FOR = [\"<|>|==|<=|>=\",\"\\^|\\~|\\&|\\|\",\"[^=]=[^=]\",\"\\+|\\-|\\/|\\*\",\"\\,\",\"\\.\",\"for\",\"if|elif|else\",\"def\",\"lambda\",\"while\",\"pass\",\"break\",\"except\",\"in\",\"raise\",\"class\",\"finally\",\"is\",\"return\",\"and\",\"continue\",\"try\",\"as\",\"from\",\"assert\",\"del\",\"global\",\"not\",\"with\",\"async\",\"or\",\"yield\",\"\\@\",\"print\"]\n",
        "    ##THINGS_TO_LOOK_FOR = [\"<|>|==|<=|>=\",\"\\^|\\~|\\&|\\|\",\"[^=]=[^=]\",\"\\+|\\-|\\/|\\*\",\"\\,\",\"\\.\",\"for\",\"if|elif|else\",\"def\",\"lambda\",\"while\",\"pass\",\"break|continue\",\"try|except|finally\",\"raise\",\"class\",\"assert\",\"global\",\"with\"]\n",
        "    #THINGS_TO_LOOK_FOR = [\"<|>|==|<=|>=\",\"[^=]=[^=]\",\"\\+|\\-|\\/|\\*\",\"\\,\",\"\\.\",\"for\",\"if|elif|else\",\"def\"]#\"lambda\",\"while\"] #,\"pass\",\"break\",\"except\",\"in\",\"raise\",\"class\",\"finally\",\"is\",\"return\",\"and\",\"continue\",\"try\",\"as\",\"from\",\"assert\",\"del\",\"global\",\"not\",\"with\",\"async\",\"or\",\"yield\",\"\\@\",\"print\"]\n",
        "\n",
        "    #Initialise the matrix of features we will store everything in\n",
        "    N_FEATURES = 13 + len(THINGS_TO_LOOK_FOR)\n",
        "    xFeatures = np.zeros((N_FEATURES,1))\n",
        "\n",
        "    for i,item in enumerate(THINGS_TO_LOOK_FOR): #Search for each thing and fill up the features matrix\n",
        "        xFeatures[i][0] = len(re.findall(item, codeSnippet))/numberOfLines #One feature is the amount of times each of the THINGS_TO_LOOK_FOR appears in the code, on average per line \n",
        "    \n",
        "    #Save remaining features\n",
        "    xFeatures[i+1] = averageLineLength\n",
        "    xFeatures[i+2] = averageIdentifierLength\n",
        "    xFeatures[i+3] = averageIdPerLine\n",
        "    xFeatures[i+4] = averageSharpCommentsPerLine\n",
        "    xFeatures[i+5] = averageEmptyLinesPerLine\n",
        "    xFeatures[i+6] = averageCamelPascalPerLine\n",
        "    xFeatures[i+7] = averageUnderPerLine\n",
        "    xFeatures[i+8] = averageCapsPerLine\n",
        "    xFeatures[i+9] = averageDigitsPerLine\n",
        "    xFeatures[i+10] = averageSpacesPerLine\n",
        "    xFeatures[i+11] = maximumOccurOfID\n",
        "    xFeatures[i+12] = averageBlockLength\n",
        "    xFeatures[i+13] = maxIndentDepth\n",
        "    \n",
        "    return xFeatures #Just the xFeatures are computed here and returned to caller. In data preparation for training, the caller will add the y label to train on, but in the live IDE the y label will be predicted by the readability features model.\n",
        "\n",
        "np.set_printoptions(suppress=True) #Turn off scientific notation\n",
        "datasetMatrix = SnippetsToFeatures() #get data out\n",
        "np.save(\"/content/drive/MyDrive/A Level/Computer Science/NEA/ReadabilityFeatures.npy\",datasetMatrix) #Save as numpy binary for later import into Python code\n",
        "print(\"Saved as NPY\")"
      ],
      "execution_count": null,
      "outputs": [
        {
          "output_type": "stream",
          "name": "stdout",
          "text": [
            "Saved as NPY\n"
          ]
        }
      ]
    },
    {
      "cell_type": "markdown",
      "metadata": {
        "id": "8Z-epsTJlb5k"
      },
      "source": [
        "### Train and Use Neural Network"
      ]
    },
    {
      "cell_type": "code",
      "metadata": {
        "id": "tGshyC5G3NSw"
      },
      "source": [
        "DATA_LOCATION =\"/content/drive/MyDrive/A Level/Computer Science/NEA/ReadabilityFeatures.npy\" #The location of the feature array for the readability dataset\n",
        "features = np.load(DATA_LOCATION)\n",
        "X = features[:-1,:]\n",
        "Y = features[-1,:].reshape((1,X.shape[1]))\n",
        "\n",
        "#Randomly re-order the dataset. (https://stackoverflow.com/questions/20546419/shuffle-columns-of-an-array-with-numpy) \n",
        "np.random.seed(1234)\n",
        "order = np.random.permutation(X.shape[1]) #Get a permutation of numbers which defines in what order we will put the dataset\n",
        "X = X[:, order] #Make sure to reorder both X and Y in the same way so that the labels still match their partner features.\n",
        "Y = Y[:, order]\n",
        "\n",
        "np.save(\"/content/drive/MyDrive/A Level/Computer Science/NEA/ReadabilityX.npy\",X) #Save randomly shuffled data as numpy binary for later import into Python code\n",
        "np.save(\"/content/drive/MyDrive/A Level/Computer Science/NEA/ReadabilityY.npy\",Y) #This is important as it means we can separately run this part of the code to reshuffle the dataset but we don't have to run it when training, meaning we can easily compare hyperparameter values as the training set is constant."
      ],
      "execution_count": null,
      "outputs": []
    },
    {
      "cell_type": "code",
      "metadata": {
        "id": "CHC_vjnJj-_4"
      },
      "source": [
        "def tanh(matrix):\n",
        "    \"\"\"The hyperbolic tangent activation function. Used as the default activation for all layers except the last one here\"\"\"\n",
        "    return (np.exp(matrix) - np.exp(-matrix))/(np.exp(matrix)+np.exp(-matrix))\n",
        "\n",
        "def tanh_prime(matrix):\n",
        "    \"\"\"Derivative of the hyperbolic tangent activation function with respect to the input matrix\"\"\"\n",
        "    return 1-np.square(tanh(matrix))\n",
        "\n",
        "def relu(matrix):\n",
        "    \"Rectified linear units activation function\"\n",
        "    return np.maximum(matrix,np.zeros(matrix.shape))\n",
        "\n",
        "def relu_prime(matrix): \n",
        "    \"\"\"Derivative of ReLU with respect to matrix\"\"\"\n",
        "    return np.vectorize(lambda z : 1 if z >=0 else 0)(matrix)\n",
        "\n",
        "def sigmoid(matrix):\n",
        "    \"\"\"Sigmoid activation function\"\"\"\n",
        "    return 1/(1+np.exp(-matrix))\n",
        "\n",
        "def sigmoid_prime(matrix):\n",
        "    \"\"\"Sigmoid activation function derivative\"\"\"\n",
        "    return sigmoid(matrix)*(1-sigmoid(matrix))\n",
        "\n",
        "def forwardProp(X,Ws,bs): \n",
        "    \"\"\"Performs 1 forward propagation through the network to get a readability rating for given X (input features - each column is one training example so vectorised), Ws (list of weights), bs (list of biases)\"\"\"\n",
        "    As = [X] #Activations at each layer, with layer 0 having the input features as its activations\n",
        "    Zs = [] #Z values (input to the activation function === matrix product of Ws[current layer] and a[layer before] + bs[current layer])\n",
        "    \n",
        "    for i in range(len(Ws)-1): #For every layer in the network except the last one, which is dealt with separately as it has a different activation,\n",
        "        Zs.append(np.matmul(Ws[i],As[i]) + bs[i]) #Compute the next Z value by multiplying the corresponding weights with the previous layer's activations and adding the biases\n",
        "        As.append(sigmoid(Zs[-1])) #Compute this layer's activation by applying the tanh activation function\n",
        "\n",
        "    #Forward prop the final layer\n",
        "    Z_final = np.matmul(Ws[-1],As[-1]) + bs[-1] #Compute Z as usual \n",
        "    Zs.append(Z_final) #Save the final Z value\n",
        "    As.append(Z_final) #No final activation function as we just want to do regression.\n",
        "    return Zs,As #Return the Z and Activation values, which will be needed for backprop \n",
        "\n",
        "def getCodeReadabilityScore(featureMatrix,Ws,bs):\n",
        "    \"\"\"Runs forward propagation on the network with the provided weights and input features and returns the final layer activations, the scores for each code sample\"\"\"\n",
        "    Zs, As = forwardProp(featureMatrix,Ws,bs)\n",
        "    return As[-1] #===y_hat\n",
        "\n",
        "def accuracyMetrics(X,Ws,bs,Y):\n",
        "    \"\"\"Calculate some accuracy metrics on the test data to check how good the learning algorithm is.\"\"\"\n",
        "    Y_hat = getCodeReadabilityScore(X,Ws,bs)\n",
        "    Y_hat *= sigmaY\n",
        "    Y_hat += muY\n",
        "    Y *= sigmaY\n",
        "    Y += muY\n",
        "    print(\"Y\")\n",
        "    print(Y)\n",
        "    print(\"Y_hat\") \n",
        "    print(Y_hat)\n",
        "    print(\"Diffs\")\n",
        "    print(Y-Y_hat)\n",
        "    print(\"Mean diff\")\n",
        "    print(np.mean(np.abs(Y-Y_hat)))\n",
        "\n",
        "def computeCost(X,Ws,bs,Y,lamd):\n",
        "    \"\"\"Computes the neural network cost function for the parameters Ws (weights), bs (biases) on input X and ground truth labels Y. lamd is the regularisation parameter lambda\"\"\"\n",
        "    Zs,As = forwardProp(X,Ws,bs) #Perform forward propagation to get the Zs and As. We will need to pass these back to the calling code for backprop\n",
        "    Y_hat = As[-1] #Precicted scores \n",
        "    m = Y.shape[1] #Number of training examples (needed as we average the cost over all training examples)\n",
        "    J = 1/m * np.sum(np.square(Y-Y_hat)) + lamd/(2*m)*sum([np.sum(np.square(w)) for w in Ws]) #MSE for regression with Frobenius norm regularisation (results in a scalar value - the smaller the value the better the neural network is doing)\n",
        "    return J,Zs,As #Cost, Zs, Activations\n",
        "\n",
        "def train(X,Ws,bs,Y,iter,alpha,lamd):\n",
        "    \"\"\"Train a deep neural network with initial parameters Ws, bs, for iter iterations, with input features X and ground truth labels Y, with batch gradient descent (learning rate alpha) and weight decay regularisation parameter lamd\"\"\"\n",
        "    Js = [] #We will save the costs on each iteration to be able to plot them later to see that they are decreasing monotonically\n",
        "    CVJs = []\n",
        "    m = Y.shape[1] #Number of training examples\n",
        "\n",
        "    for i in range(iter): #For each iteration, perform forward prop, get cost, perform backprop by gradient descent and update weights\n",
        "        costCV,_,_ = computeCost(cvX,Ws,bs,cvY,lamd)\n",
        "        cost,Zs,As = computeCost(X,Ws,bs,Y,lamd)\n",
        "        CVJs.append(costCV)\n",
        "        Js.append(cost)\n",
        "\n",
        "        dZ = -2*(Y-As[-1]) #Derivative of the cost function with respect to the final layer logits Z \n",
        "        dWs = copy.deepcopy(Ws) #The derivatives of the cost function with respect to each layer's weights..\n",
        "        dbs = copy.deepcopy(bs) #...and biases. We use copy to initialise a dummy list of matrices with the correct dimensions although the values will be replaced - the W and dW values are not the same\n",
        "        \n",
        "        for backwardLayer in range(len(As)-2,-1,-1): #Move backward through the network, starting at the second to last set of activations\n",
        "            dWs[backwardLayer] = 1/m*np.matmul(dZ,As[backwardLayer].T) + lamd/m*Ws[backwardLayer] #Compute the partial derivative with respect to the cost function J of the weights at this layer\n",
        "            dbs[backwardLayer] = 1/m*np.sum(dZ,axis=1,keepdims=True) #Compute the partial derivative with respect to the cost function J of the biases at this layer\n",
        "            \n",
        "            if backwardLayer != 0: #If we are not back at the start of the network, then there is at least one more iteration (set of dW and db values to compute) and so we need to compute the parital derivative of J with respect to the next set of Z values, since this is used to compute the next layer's dW and db\n",
        "                dZ = np.matmul(Ws[backwardLayer].T,dZ)*sigmoid_prime(Zs[backwardLayer-1])\n",
        "\n",
        "        for i in range(len(Ws)): #Apply gradients via gradient descent to update the weights so that they hopefully get it right next time\n",
        "            Ws[i] = Ws[i] - alpha*dWs[i]\n",
        "            bs[i] = bs[i] - alpha*dbs[i]\n",
        "\n",
        "    plt.ylim(0, 6)\n",
        "    plt.plot(Js) #debug plot of the cost function with iterations to check it is monotonically increasing\n",
        "    plt.plot(CVJs)\n",
        "    plt.title(\"Neural Network Cost Function with iterations of gradient descent\")\n",
        "    return Ws,bs #Trained weights and biases go back to calling code"
      ],
      "execution_count": null,
      "outputs": []
    },
    {
      "cell_type": "code",
      "metadata": {
        "id": "asTSj1WnjsT9",
        "colab": {
          "base_uri": "https://localhost:8080/"
        },
        "outputId": "4fc778cc-78dd-47c6-bea2-9459690ca448"
      },
      "source": [
        "X = np.load(\"/content/drive/MyDrive/A Level/Computer Science/NEA/ReadabilityX.npy\") #Load in the X and Y values from where they are stored\n",
        "Y = np.load(\"/content/drive/MyDrive/A Level/Computer Science/NEA/ReadabilityY.npy\")\n",
        "\n",
        "n_X = X.shape[0] #The number of input features.\n",
        "\n",
        "#Normalise features to have 0 mean and 1 standard deviation\n",
        "np.set_printoptions(suppress=True) #Turn off scientific notation\n",
        "mu = np.mean(X,axis=1).reshape(n_X,1)\n",
        "sigma = np.std(X,axis=1).reshape(n_X,1)\n",
        "for i in range(sigma.shape[0]):\n",
        "    if sigma[i,0] == 0:\n",
        "        sigma[i,0] = 1 #Some rows have 0 standard deviation which leads to division by zero error so just make the standard deviation 1 for now \n",
        "X -= mu\n",
        "X /= sigma\n",
        "\n",
        "print(Y)\n",
        "muY = np.mean(Y)\n",
        "sigmaY = np.std(Y)\n",
        "Y -= muY\n",
        "Y /= sigmaY\n",
        "print(Y)\n",
        "\n",
        "#Split the dataset into train, cross-validation and test sets\n",
        "PERCENTAGE_TRAIN = 0.7 \n",
        "PERCENTAGE_CV = 0.15\n",
        "NUMBER_TRAIN = round(PERCENTAGE_TRAIN * X.shape[1])\n",
        "NUMBER_CV = round(PERCENTAGE_CV * X.shape[1])\n",
        "\n",
        "trainX = X[:,:NUMBER_TRAIN]\n",
        "cvX = X[:,NUMBER_TRAIN:NUMBER_TRAIN+NUMBER_CV]\n",
        "testX = X[:,NUMBER_TRAIN+NUMBER_CV:]\n",
        "\n",
        "trainY = Y[:,:NUMBER_TRAIN]\n",
        "cvY = Y[:,NUMBER_TRAIN:NUMBER_TRAIN+NUMBER_CV]\n",
        "testY = Y[:,NUMBER_TRAIN+NUMBER_CV:]\n",
        "\n",
        "\n",
        "m = trainX.shape[1] #Number of examples in training set"
      ],
      "execution_count": null,
      "outputs": [
        {
          "output_type": "stream",
          "name": "stdout",
          "text": [
            "[[4.3989071  8.19736842 5.84975369 6.89473684 5.951417   6.62857143\n",
            "  5.95108696 5.83333333 4.65277778 5.00961538 6.28698225 6.80962343\n",
            "  7.35714286 7.78205128 8.01020408 7.32804233 7.08333333 5.90517241\n",
            "  4.08613445 4.93811881 6.27118644 5.40178571 6.98412698 6.69421488\n",
            "  7.8957529  6.73553719 6.812749   3.92011834 6.96351931 6.00896861\n",
            "  5.04237288 6.40167364 8.2486631  6.98979592 6.21010638 5.84661355\n",
            "  3.22972973 7.44877049 6.03293413 5.01004016 4.6        7.78074866\n",
            "  6.125      7.93859649 7.68918919 5.87837838 6.29781421 7.42521368\n",
            "  5.99710983 5.95430108 6.61392405 6.28140704 6.84357542 7.29700855\n",
            "  7.02185792 5.03232759 4.93421053 6.36740331 5.18055556 5.28074866\n",
            "  6.10406091 5.84355828 8.50980392 6.85555556 4.70588235 6.53846154\n",
            "  7.35232068 6.56593407 5.86419753 6.99152542 5.25900901 7.05020921\n",
            "  5.5995935  7.2361809  6.56578947 5.97826087 6.38554217 6.52663934\n",
            "  7.1657754  4.85294118 5.94444444 5.31791908 7.47126437 6.22994652\n",
            "  7.34304933 4.37739464 6.64473684 6.20454545 4.68112245 7.\n",
            "  5.87184874 7.87076271 7.93193717 7.43686869 7.63374486 5.78193833\n",
            "  7.04896907 5.57053942 5.87837838 5.87797619 6.15384615 7.23463687\n",
            "  7.90983607 6.55487805 8.01136364 6.58959538 3.54700855 7.74193548\n",
            "  6.09251969 6.04278075 4.81481481 6.73155738 7.90358744 6.52083333\n",
            "  5.1863354  6.79956897 5.63577586 7.04787234 7.18879668]]\n",
            "[[-1.81689311  1.72383223 -0.46449042  0.50958776 -0.36972525  0.2614824\n",
            "  -0.3700329  -0.47979662 -1.58024825 -1.24762305 -0.05692902  0.43024953\n",
            "   0.94061826  1.33669549  1.5493675   0.91349229  0.68538747 -0.41283202\n",
            "  -2.10844328 -1.31426839 -0.07165304 -0.88206255  0.59291254  0.32267176\n",
            "   1.44268214  0.36119024  0.43316302 -2.26319474  0.57370315 -0.31607867\n",
            "  -1.21708824  0.04998025  1.77164642  0.59819682 -0.12858865 -0.4674175\n",
            "  -2.9067386   1.02602871 -0.29373928 -1.2472271  -1.62944491  1.33548126\n",
            "  -0.20792033  1.48261868  1.25013435 -0.437808   -0.04683204  1.00407029\n",
            "  -0.32713281 -0.36703687  0.24782889 -0.06212594  0.46189778  0.88456423\n",
            "   0.62808333 -1.22645194 -1.31791148  0.01803526 -1.08828164 -0.99488691\n",
            "  -0.22743864 -0.47026546  2.01506812  0.47306503 -1.53074697  0.17748671\n",
            "   0.93612328  0.20309515 -0.45102664  0.59980897 -1.01515147  0.6545109\n",
            "  -0.69767657  0.82786391  0.20296037 -0.34470281  0.03494334  0.16646669\n",
            "   0.76223561 -1.39366649 -0.3762247  -0.96023861  1.04699632 -0.11009472\n",
            "   0.92748102 -1.83694589  0.27655094 -0.13377225 -1.55382684  0.60770853\n",
            "  -0.44389459  1.41938761  1.47641121  1.01493448  1.19845206 -0.52770433\n",
            "   0.65335491 -0.72475925 -0.437808   -0.4381829  -0.18103147  0.82642464\n",
            "   1.45580973  0.19278932  1.55044838  0.22515098 -2.61098802  1.29930166\n",
            "  -0.23819677 -0.28456078 -1.42920587  0.35748047  1.44998509  0.16105463\n",
            "  -1.08289397  0.42087729 -0.66394927  0.6523326   0.78369484]]\n"
          ]
        }
      ]
    },
    {
      "cell_type": "code",
      "metadata": {
        "colab": {
          "base_uri": "https://localhost:8080/",
          "height": 1000
        },
        "id": "DUdWqG7dR_44",
        "outputId": "d85073d1-8e85-4ff4-878e-4fe1b6516230"
      },
      "source": [
        "NODES = [n_X,10,3,1] #This describes the architecture of the network (number of nodes in each layer). The activation functions are set elsewhere\n",
        "NODES = [n_X,15,10,5,1] #This describes the architecture of the network (number of nodes in each layer). The activation functions are set elsewhere\n",
        "NODES = [n_X,30,20,20,10,1] #This describes the architecture of the network (number of nodes in each layer). The activation functions are set else  0.31694589023189906where 1.1532639907258033\n",
        "\n",
        "#Randomly initialise weights and biases for each layer\n",
        "Ws = [] #Each value in this array is a numpy matrix representing the weights for the transition from a pair of consecutive layers. len(Ws) === len(nodes)-1\n",
        "for i in range(len(NODES)-1):\n",
        "    Ws.append(np.random.standard_normal((NODES[i+1],NODES[i])))\n",
        "bs = []#Each value in this array is a numpy matrix representing the biases for the transition from a pair of consecutive layers. len(bs) === len(nodes)-1\n",
        "for i in range(len(NODES)-1):\n",
        "    bs.append(np.random.standard_normal((NODES[i+1],1)))\n",
        "\n",
        "#MAINTENANCE: Network training constants - to improve performance of model try changing these and check train and cv set accuracy. Use test set to get a final unbiased estimate of how good the model is\n",
        "NUM_ITER = 20000 #How many epochs to train for\n",
        "ALPHA = 0.01 #Gradient descent learning rate\n",
        "LAMBDA = 0 #Regularisation parameter \n",
        "\n",
        "trainedWs,trainedbs = train(trainX,Ws,bs,trainY,NUM_ITER,ALPHA,LAMBDA) #Train the network\n",
        "print(\"Trained\")\n",
        "print(\"\\nTrain set\")\n",
        "accuracyMetrics(trainX,trainedWs,trainedbs,trainY) #Compute accuracy metrics on the train set\n",
        "print(\"\\nCV set\")\n",
        "accuracyMetrics(cvX,trainedWs,trainedbs,cvY) #Compute accuracy metrics on the dev set"
      ],
      "execution_count": null,
      "outputs": [
        {
          "output_type": "stream",
          "name": "stdout",
          "text": [
            "Trained\n",
            "\n",
            "Train set\n",
            "Y\n",
            "[[4.3989071  8.19736842 5.84975369 6.89473684 5.951417   6.62857143\n",
            "  5.95108696 5.83333333 4.65277778 5.00961538 6.28698225 6.80962343\n",
            "  7.35714286 7.78205128 8.01020408 7.32804233 7.08333333 5.90517241\n",
            "  4.08613445 4.93811881 6.27118644 5.40178571 6.98412698 6.69421488\n",
            "  7.8957529  6.73553719 6.812749   3.92011834 6.96351931 6.00896861\n",
            "  5.04237288 6.40167364 8.2486631  6.98979592 6.21010638 5.84661355\n",
            "  3.22972973 7.44877049 6.03293413 5.01004016 4.6        7.78074866\n",
            "  6.125      7.93859649 7.68918919 5.87837838 6.29781421 7.42521368\n",
            "  5.99710983 5.95430108 6.61392405 6.28140704 6.84357542 7.29700855\n",
            "  7.02185792 5.03232759 4.93421053 6.36740331 5.18055556 5.28074866\n",
            "  6.10406091 5.84355828 8.50980392 6.85555556 4.70588235 6.53846154\n",
            "  7.35232068 6.56593407 5.86419753 6.99152542 5.25900901 7.05020921\n",
            "  5.5995935  7.2361809  6.56578947 5.97826087 6.38554217 6.52663934\n",
            "  7.1657754  4.85294118 5.94444444 5.31791908 7.47126437]]\n",
            "Y_hat\n",
            "[[4.38383937 8.18421841 5.84920007 6.89664584 5.95266582 6.63282733\n",
            "  5.09449074 5.83431244 4.65240393 6.18321324 6.29779599 6.81090557\n",
            "  6.18321324 7.78275839 8.01488382 7.32805779 7.08488189 5.90542731\n",
            "  4.07610389 4.93660578 6.26954966 5.40091016 6.98512037 6.69351356\n",
            "  7.89626951 6.73563647 6.81122089 3.95351485 6.96515218 6.00895812\n",
            "  5.05372962 6.40187615 8.25240827 6.98887764 6.19931285 5.84516605\n",
            "  5.09449074 7.44909936 6.03281849 5.01127452 4.59828017 7.77930863\n",
            "  6.1231254  7.93666856 7.68925596 5.879384   6.29717099 7.42597832\n",
            "  5.99757299 5.95484155 6.61429002 6.28190731 6.84467861 7.29722601\n",
            "  7.02594283 5.03369366 4.93448153 6.3668478  5.18049016 5.28083965\n",
            "  5.09449074 5.84597548 8.50884733 6.85392614 4.70571803 6.53760224\n",
            "  7.35245154 6.56582211 5.86427134 6.99354355 5.25982743 7.04982167\n",
            "  5.59862213 7.23604418 6.56728366 5.94938638 6.38640539 6.52493281\n",
            "  7.16454786 4.85385929 5.94646382 5.31706264 7.47562371]]\n",
            "Diffs\n",
            "[[ 0.01506773  0.01315002  0.00055362 -0.001909   -0.00124882 -0.0042559\n",
            "   0.85659621 -0.0009791   0.00037385 -1.17359786 -0.01081374 -0.00128214\n",
            "   1.17392961 -0.0007071  -0.00467974 -0.00001546 -0.00154856 -0.0002549\n",
            "   0.01003056  0.00151303  0.00163678  0.00087555 -0.00099339  0.00070132\n",
            "  -0.00051662 -0.00009928  0.00152812 -0.0333965  -0.00163287  0.00001049\n",
            "  -0.01135674 -0.00020251 -0.00374517  0.00091828  0.01079353  0.0014475\n",
            "  -1.86476102 -0.00032887  0.00011564 -0.00123436  0.00171983  0.00144003\n",
            "   0.0018746   0.00192793 -0.00006677 -0.00100562  0.00064322 -0.00076465\n",
            "  -0.00046316 -0.00054048 -0.00036597 -0.00050027 -0.00110319 -0.00021746\n",
            "  -0.0040849  -0.00136607 -0.000271    0.00055552  0.00006539 -0.00009098\n",
            "   1.00957017 -0.0024172   0.00095659  0.00162942  0.00016433  0.0008593\n",
            "  -0.00013087  0.00011195 -0.00007381 -0.00201813 -0.00081843  0.00038753\n",
            "   0.00097137  0.00013672 -0.00149419  0.02887449 -0.00086322  0.00170654\n",
            "   0.00122754 -0.00091811 -0.00201937  0.00085643 -0.00435934]]\n",
            "Mean diff\n",
            "0.07578835634455909\n",
            "\n",
            "CV set\n",
            "Y\n",
            "[[6.22994652 7.34304933 4.37739464 6.64473684 6.20454545 4.68112245\n",
            "  7.         5.87184874 7.87076271 7.93193717 7.43686869 7.63374486\n",
            "  5.78193833 7.04896907 5.57053942 5.87837838 5.87797619 6.15384615]]\n",
            "Y_hat\n",
            "[[6.19950781 4.9205675  5.66024565 4.86832004 4.68548389 5.90144265\n",
            "  7.39327321 4.85405039 6.48779862 5.75464234 5.58383324 6.192194\n",
            "  5.33408724 5.43276469 5.68898093 6.10774287 4.14986126 7.39536599]]\n",
            "Diffs\n",
            "[[ 0.03043871  2.42248183 -1.28285102  1.7764168   1.51906157 -1.22032021\n",
            "  -0.39327321  1.01779835  1.38296409  2.17729484  1.85303545  1.44155086\n",
            "   0.44785109  1.61620439 -0.11844152 -0.22936449  1.72811493 -1.24151984]]\n",
            "Mean diff\n",
            "1.2166101769489803\n"
          ]
        },
        {
          "output_type": "display_data",
          "data": {
            "image/png": "[encoded data removed]",
            "text/plain": [
              "<Figure size 432x288 with 1 Axes>"
            ]
          },
          "metadata": {
            "needs_background": "light"
          }
        }
      ]
    },
    {
      "cell_type": "code",
      "metadata": {
        "colab": {
          "base_uri": "https://localhost:8080/"
        },
        "id": "eTA3ewdUPjYp",
        "outputId": "5abc9e28-75c1-4d9a-e462-aa2e8ee3f268"
      },
      "source": [
        "np.save(\"/content/drive/MyDrive/A Level/Computer Science/NEA/ReadabilityWs.npy\",trainedWs) #Save weights as numpy binary for later import into Python code\n",
        "np.save(\"/content/drive/MyDrive/A Level/Computer Science/NEA/ReadabilityBs.npy\",trainedbs) #Save biases as numpy binary for later import into Python code"
      ],
      "execution_count": null,
      "outputs": [
        {
          "output_type": "stream",
          "name": "stderr",
          "text": [
            "/usr/local/lib/python3.7/dist-packages/numpy/core/_asarray.py:136: VisibleDeprecationWarning: Creating an ndarray from ragged nested sequences (which is a list-or-tuple of lists-or-tuples-or ndarrays with different lengths or shapes) is deprecated. If you meant to do this, you must specify 'dtype=object' when creating the ndarray\n",
            "  return array(a, dtype, copy=False, order=order, subok=True)\n"
          ]
        }
      ]
    },
    {
      "cell_type": "code",
      "metadata": {
        "colab": {
          "base_uri": "https://localhost:8080/"
        },
        "id": "vjgiRy5jRDy8",
        "outputId": "d7aa8418-fcc3-4f96-94bb-20c80ef7fd9f"
      },
      "source": [
        "#Example code for loading in ws and bs to be used in the actual IDE code\n",
        "w = np.load(\"/content/drive/MyDrive/A Level/Computer Science/NEA/ReadabilityWs.npy\",allow_pickle=True)\n",
        "b = np.load(\"/content/drive/MyDrive/A Level/Computer Science/NEA/ReadabilityBs.npy\",allow_pickle=True)\n",
        "accuracyMetrics(testX,w,b,testY)\n"
      ],
      "execution_count": null,
      "outputs": [
        {
          "output_type": "stream",
          "name": "stdout",
          "text": [
            "Y\n",
            "[[7.23463687 7.90983607 6.55487805 8.01136364 6.58959538 3.54700855\n",
            "  7.74193548 6.09251969 6.04278075 4.81481481 6.73155738 7.90358744\n",
            "  6.52083333 5.1863354  6.79956897 5.63577586 7.04787234 7.18879668]]\n",
            "Y_hat\n",
            "[[7.76842178 7.20180623 5.60895306 7.75304005 6.81854477 5.87824022\n",
            "  6.99799124 4.35033828 6.68782782 7.64709433 5.93491358 7.75493712\n",
            "  3.80533604 6.66220338 4.13719479 6.75220119 7.15221704 5.80009983]]\n",
            "Diffs\n",
            "[[-0.53378491  0.70802983  0.94592499  0.25832359 -0.22894939 -2.33123168\n",
            "   0.74394425  1.74218141 -0.64504708 -2.83227951  0.7966438   0.14865032\n",
            "   2.71549729 -1.47586798  2.66237418 -1.11642532 -0.1043447   1.38869686]]\n",
            "Mean diff\n",
            "1.1876776157512687\n"
          ]
        }
      ]
    },
    {
      "cell_type": "code",
      "metadata": {
        "id": "x_hnHPnlPmF_",
        "colab": {
          "base_uri": "https://localhost:8080/"
        },
        "outputId": "c07fbbeb-62c9-4eaa-c163-595066da23f4"
      },
      "source": [
        "#Module test\n",
        "\n",
        "codeToScore = \"\"\"def sorter(loI):\n",
        " done = [loI[0]] #Will store the sorted list################################\n",
        " for item in loI[1:]: #First one already sorted so skip\n",
        "   for i in range(len(done)):#Try to insert next one where it belongs\n",
        "     if done[i] > item: #Correct posn\n",
        "       done.insert(i,item) #Put it in the done list\n",
        "       break #No need to continue\n",
        "   else:\n",
        "     done.append(item) #Goes at end\n",
        " return done\"\"\"\n",
        "\n",
        "print(getCodeReadabilityScore(ExtractCodeReadabilityFeatures(codeToScore),trainedWs,trainedbs)*sigmaY+muY)"
      ],
      "execution_count": null,
      "outputs": [
        {
          "output_type": "stream",
          "name": "stdout",
          "text": [
            "[[7.38866033]]\n"
          ]
        }
      ]
    },
    {
      "cell_type": "code",
      "metadata": {
        "id": "CE3i0d25q7Kk"
      },
      "source": [
        ""
      ],
      "execution_count": null,
      "outputs": []
    }
  ]
}